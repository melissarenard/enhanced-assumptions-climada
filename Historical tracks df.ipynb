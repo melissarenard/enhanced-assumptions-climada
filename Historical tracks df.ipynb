{
 "cells": [
  {
   "cell_type": "markdown",
   "metadata": {},
   "source": [
    "# Tracks\n",
    "\n",
    "Generate tracks dataframe for analysis in R: `tracks.csv`"
   ]
  },
  {
   "cell_type": "code",
   "execution_count": null,
   "metadata": {},
   "outputs": [],
   "source": [
    "from climada.hazard import TCTracks\n",
    "import numpy as np\n",
    "import pandas as pd\n",
    "from pathos.pools import ProcessPool\n",
    "import warnings\n",
    "warnings.filterwarnings('ignore')"
   ]
  },
  {
   "cell_type": "code",
   "execution_count": null,
   "metadata": {},
   "outputs": [],
   "source": [
    "# set parameters\n",
    "start_year = 1980\n",
    "end_year = 2023\n",
    "\n",
    "pool = ProcessPool(nodes=8)\n",
    "tracks = TCTracks.from_ibtracs_netcdf(year_range=(start_year, end_year))\n",
    "\n",
    "n_TCs = tracks.size\n",
    "\n",
    "time_start = [track.indexes['time'][0] for track in tracks.data]\n",
    "time_end = [track.indexes['time'][-1] for track in tracks.data]\n",
    "\n",
    "times_dt = [time - pd.Timestamp(\"1/1/1980\") for time in time_start]\n",
    "times_dt_days = [time.total_seconds() / (60*60*24) for time in times_dt]\n",
    "times_dt_years = [time.total_seconds() / (60*60*24*365.25) for time in times_dt]\n",
    "\n",
    "max_sw = [np.max(track['max_sustained_wind'].values) for track in tracks.data]\n",
    "min_sw = [np.min(track['max_sustained_wind'].values) for track in tracks.data]\n",
    "mean_sw = [np.mean(track['max_sustained_wind'].values) for track in tracks.data]\n",
    "\n",
    "lifetimes = [(time_end[i] - time_start[i]).total_seconds()/(60*60*24*365.25) for i in range(n_TCs)]\n",
    "\n",
    "tracks_df = pd.DataFrame({\n",
    "    'basin': [track['basin'].values[0] for track in tracks.data],\n",
    "    'TC_num': range(1,n_TCs+1),\t\n",
    "    'days_since_1980': times_dt_days,\n",
    "    'years_since_1980': times_dt_years,\n",
    "    'year': [track.indexes['time'].year[0] for track in tracks.data],\n",
    "    'month': [track.indexes['time'].month[0] for track in tracks.data],\n",
    "    'max_sw': max_sw,\n",
    "    'min_sw': min_sw,\n",
    "    'mean_sw': mean_sw,\n",
    "    'category': [track.category for track in tracks.data],\n",
    "    'lat': [track.lat.values[0] for track in tracks.data],\n",
    "    'lon': [track.lon[0].values % 360 for track in tracks.data],\n",
    "    'lifetime': lifetimes\n",
    "})\n",
    "tracks_df.index = time_start\n",
    "tracks_df.sort_index(inplace=True)"
   ]
  },
  {
   "cell_type": "code",
   "execution_count": null,
   "metadata": {},
   "outputs": [],
   "source": [
    "# Save dataframe\n",
    "tracks_df.to_csv('Data/tracks.csv')"
   ]
  }
 ],
 "metadata": {
  "kernelspec": {
   "display_name": "climada_env",
   "language": "python",
   "name": "python3"
  },
  "language_info": {
   "codemirror_mode": {
    "name": "ipython",
    "version": 3
   },
   "file_extension": ".py",
   "mimetype": "text/x-python",
   "name": "python",
   "nbconvert_exporter": "python",
   "pygments_lexer": "ipython3",
   "version": "3.9.18"
  }
 },
 "nbformat": 4,
 "nbformat_minor": 2
}
