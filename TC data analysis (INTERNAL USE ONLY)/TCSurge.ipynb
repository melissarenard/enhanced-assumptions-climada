{
 "cells": [
  {
   "cell_type": "markdown",
   "metadata": {},
   "source": [
    "# Storm Surge in CLIMADA\n",
    "This notebook looks at the storm surge module `TCSurgeBathtub` in CLIMADA petals. Note that you need to install CLIMADA *and* CLIMADA petals in order to run this code. Instructions on how to install both are [here](https://climada-python.readthedocs.io/en/stable/guide/install.html)."
   ]
  },
  {
   "cell_type": "code",
   "execution_count": null,
   "metadata": {},
   "outputs": [],
   "source": [
    "from climada.hazard import TCTracks, TropCyclone, Centroids\n",
    "from climada_petals.hazard import TCSurgeBathtub\n",
    "from climada.util.constants import DEMO_DIR"
   ]
  },
  {
   "cell_type": "code",
   "execution_count": null,
   "metadata": {},
   "outputs": [],
   "source": [
    "sid = '1995348S15135'\n",
    "my_tr = TCTracks.from_ibtracs_netcdf(storm_id = sid)\n",
    "my_tr.equal_timestep(land_params=True)\n",
    "my_tr.plot();"
   ]
  },
  {
   "cell_type": "code",
   "execution_count": null,
   "metadata": {},
   "outputs": [],
   "source": [
    "min_lat, max_lat, min_lon, max_lon = -22, -14, 119, 125\n",
    "cent_bang = Centroids.from_pnt_bounds((min_lon, min_lat, max_lon, max_lat), res = 0.03)\n",
    "\n",
    "tc_bang = TropCyclone.from_tracks(my_tr, centroids = cent_bang)"
   ]
  },
  {
   "cell_type": "code",
   "execution_count": null,
   "metadata": {},
   "outputs": [],
   "source": [
    "topo_path = DEMO_DIR.joinpath('SRTM15+V2.0_sample.tiff')\n",
    "ts_bang = TCSurgeBathtub.from_tc_winds(tc_bang, topo_path)"
   ]
  },
  {
   "cell_type": "code",
   "execution_count": null,
   "metadata": {},
   "outputs": [],
   "source": [
    "elevation = ts_bang.centroids.get_elevation(topo_path)\n",
    "ts_bang.centroids.plot(c=elevation, vmin=0, vmax=10);"
   ]
  },
  {
   "cell_type": "code",
   "execution_count": null,
   "metadata": {},
   "outputs": [],
   "source": [
    "ax = tc_bang.plot_intensity(1)\n",
    "ax.set_title('Wind')\n",
    "ax = ts_bang.plot_intensity(1)\n",
    "ax.set_title('Surge');"
   ]
  }
 ],
 "metadata": {
  "kernelspec": {
   "display_name": "climada_env",
   "language": "python",
   "name": "python3"
  },
  "language_info": {
   "codemirror_mode": {
    "name": "ipython",
    "version": 3
   },
   "file_extension": ".py",
   "mimetype": "text/x-python",
   "name": "python",
   "nbconvert_exporter": "python",
   "pygments_lexer": "ipython3",
   "version": "3.9.18"
  }
 },
 "nbformat": 4,
 "nbformat_minor": 2
}
