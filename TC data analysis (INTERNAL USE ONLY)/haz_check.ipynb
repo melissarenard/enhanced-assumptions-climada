{
 "cells": [
  {
   "cell_type": "markdown",
   "metadata": {},
   "source": [
    "# Hazard check"
   ]
  },
  {
   "cell_type": "code",
   "execution_count": null,
   "metadata": {},
   "outputs": [],
   "source": [
    "from climada.hazard import Hazard, Centroids, TCTracks, TropCyclone\n",
    "from climada.entity import Exposures\n",
    "from climada.entity.exposures import LitPop\n",
    "# from climada.entity import Measure, MeasureSet, Entity\n",
    "from climada.engine import ImpactCalc, Impact\n",
    "import climada.hazard.tc_tracks as tc_tracks\n",
    "import climada.hazard.tc_tracks_synth as tc_tracks_synth\n",
    "from pathos.pools import ProcessPool\n",
    "# import os\n",
    "# from climada.util import save, load\n",
    "import numpy as np\n",
    "import matplotlib.pyplot as plt\n",
    "from matplotlib.dates import date2num\n",
    "import pandas as pd\n",
    "import math\n",
    "import collections\n",
    "import climada.util.coordinates as u_coord\n",
    "# import climada.entity.exposures.litpop as lp\n",
    "import geopandas as gpd"
   ]
  },
  {
   "cell_type": "code",
   "execution_count": null,
   "metadata": {},
   "outputs": [],
   "source": [
    "## set parameters\n",
    "# Exposure\n",
    "my_country = 'AUS'\n",
    "m, n = 1,1 # based on analysis by Eberenz et al. (2020), (1,1) is the best combination.\n",
    "my_fin_mode = 'pc'\n",
    "ref_year = 2023\n",
    "\n",
    "my_res_arcsec = 600\n",
    "sid = '1995348S15135' # '1994344S09112'\n",
    "\n",
    "## Exposure\n",
    "exp = LitPop.from_countries(my_country, my_res_arcsec, (m,n), my_fin_mode, reference_year = ref_year)\n",
    "exp.check()\n",
    "\n",
    "## Centroids\n",
    "lat = exp.gdf.latitude\n",
    "lon = exp.gdf.longitude\n",
    "polygon = (lon.min(), lon.max(), lat.min(), lat.max())\n",
    "\n",
    "cent = Centroids.from_pnt_bounds((lon.min(), lat.min(), lon.max(), lat.max()), res=my_res_arcsec/3600)\n",
    "cent.set_on_land()\n",
    "cent.set_region_id()\n",
    "# cent.plot(alpha=0.1);"
   ]
  },
  {
   "cell_type": "code",
   "execution_count": null,
   "metadata": {},
   "outputs": [],
   "source": [
    "pool = ProcessPool(nodes=8)\n",
    "\n",
    "tc1 = TCTracks.from_ibtracs_netcdf(storm_id=sid)\n",
    "tc1.equal_timestep(land_params = True, pool = pool)\n",
    "\n",
    "haz = TropCyclone.from_tracks(tc1, centroids = cent, pool = pool)\n",
    "haz.check()"
   ]
  },
  {
   "cell_type": "code",
   "execution_count": null,
   "metadata": {},
   "outputs": [],
   "source": [
    "# Generate synthetic tracks: with decay\n",
    "np.random.seed(1)\n",
    "pool = ProcessPool(nodes=8)\n",
    "\n",
    "tc_decay = TCTracks.from_ibtracs_netcdf(storm_id=sid)\n",
    "tc_decay.equal_timestep(land_params = True, pool=pool)\n",
    "tc_decay.calc_perturbed_trajectories(nb_synth_tracks = 10, decay=True, pool=pool);\n",
    "\n",
    "haz_decay = TropCyclone.from_tracks(tc_decay, centroids = cent, pool = pool)\n",
    "haz_decay.check()"
   ]
  },
  {
   "cell_type": "code",
   "execution_count": null,
   "metadata": {},
   "outputs": [],
   "source": [
    "# Generate synthetic tracks: without decay\n",
    "np.random.seed(1)\n",
    "pool = ProcessPool(nodes=8)\n",
    "\n",
    "tc_no_decay = TCTracks.from_ibtracs_netcdf(storm_id=sid)\n",
    "tc_no_decay.equal_timestep(land_params = True, pool=pool)\n",
    "tc_no_decay.calc_perturbed_trajectories(nb_synth_tracks = 10, decay=False, pool=pool);\n",
    "\n",
    "haz_no_decay = TropCyclone.from_tracks(tc_no_decay, centroids = cent, pool = pool)\n",
    "haz_no_decay.check()\n",
    "\n",
    "pool.close()\n",
    "pool.join()"
   ]
  },
  {
   "cell_type": "code",
   "execution_count": null,
   "metadata": {},
   "outputs": [],
   "source": [
    "tc1.plot(figsize=(9,5));\n",
    "tc_decay.plot(legend = False, figsize=(9,5));\n",
    "tc_no_decay.plot(legend=False, figsize=(9,5));"
   ]
  },
  {
   "cell_type": "code",
   "execution_count": null,
   "metadata": {},
   "outputs": [],
   "source": [
    "# https://github.com/CLIMADA-project/climada_python/issues/151\n",
    "\n",
    "def get_lf_df(tr_df):\n",
    "    lf_start = tr_df.iloc[np.where(np.diff(tr_df['on_land'].astype(float)) == 1)[0],:]['time']\n",
    "    lf_end = tr_df.iloc[np.where(np.diff(tr_df['on_land'].astype(float)) == -1)[0],:]['time']\n",
    "    if len(lf_end) < len(lf_start):\n",
    "        lf_end = lf_end.append(max(tr_df['time']))\n",
    "    lf_dat = pd.DataFrame({'start_lf':lf_start, 'end_lf': lf_end}).reset_index(drop=True)\n",
    "    return lf_dat\n",
    "\n",
    "\n",
    "def get_tracks_df(tracks, sid_hist, ens_nb):\n",
    "    # get historical track df\n",
    "    tr_hist = TCTracks()\n",
    "    tr_hist.data = [tracks.get_track(sid_hist)]\n",
    "    tr_hist_df = tr_hist.to_geodataframe(as_points=True)\n",
    "    # get synthetic track df\n",
    "    tr_synth = TCTracks()\n",
    "    tr_synth.data = [tracks.get_track(sid_hist+'_gen'+str(ens_nb))]\n",
    "    tr_synth_df = tr_synth.to_geodataframe(as_points=True)\n",
    "    return tr_synth_df, tr_hist_df\n",
    "\n",
    "def plot_landfall_data(tracks, sid_hist, ens_nb):\n",
    "    tr_df, tr_hist_df = get_tracks_df(tracks, sid_hist, ens_nb)\n",
    "    fig, ax = plt.subplots(figsize=(10,6))\n",
    "    lf_dat = get_lf_df(tr_df)\n",
    "    lf_hist = get_lf_df(tr_hist_df)\n",
    "    #     ws = ax.scatter(tr_df['time'],tr_df['max_sustained_wind'])\n",
    "    ws = ax.plot(tr_df['time'],tr_df['max_sustained_wind'], marker='x')\n",
    "    wo = ax.scatter(tr_hist_df['time'], tr_hist_df['max_sustained_wind'], marker='+', color='red')\n",
    "    # ax = pd.DataFrame(t1_syn_df).plot(x='time',y='max_sustained_wind')\n",
    "    for i in range(lf_hist.shape[0]):\n",
    "        lfo = ax.axvspan(date2num(lf_hist['start_lf'][i]), date2num(lf_hist['end_lf'][i]), \n",
    "                   label=\"Landfalls\",color=\"grey\", alpha=0.3)\n",
    "    for i in range(lf_dat.shape[0]):\n",
    "        lfs = ax.axvspan(date2num(lf_dat['start_lf'][i]), date2num(lf_dat['end_lf'][i]), \n",
    "                   label=\"Landfalls\",color=\"green\", alpha=0.3)\n",
    "    ax.set_title('Maximum sustained wind for cyc_id %s' % sid_hist+'_gen'+str(ens_nb))\n",
    "    ax.set_ylabel('kts')\n",
    "    legend1 = plt.legend((ws[0], wo), ('Actual', 'Historical track'), loc=2)\n",
    "    ax.legend((lfs, lfo), ('Landfall', 'Landfall (historical)'), loc=3)\n",
    "    plt.gca().add_artist(legend1)\n",
    "\n",
    "    fig, ax = plt.subplots(figsize=(10,6))\n",
    "    ws = ax.plot(tr_df['time'],tr_df['central_pressure'], marker='x')\n",
    "    wo = ax.scatter(tr_hist_df['time'], tr_hist_df['central_pressure'], marker='+', color='red')\n",
    "    we = ax.scatter(tr_hist_df['time'], tr_hist_df['environmental_pressure'], marker='.', color='orange')\n",
    "    #     wes = ax.scatter(tr_df['time'], tr_df['environmental_pressure'], marker='.', color='green')\n",
    "    # ax = pd.DataFrame(t1_syn_df).plot(x='time',y='max_sustained_wind')\n",
    "    for i in range(lf_hist.shape[0]):\n",
    "        ax.axvspan(date2num(lf_hist['start_lf'][i]), date2num(lf_hist['end_lf'][i]), \n",
    "                   label=\"Landfalls\",color=\"grey\", alpha=0.3)\n",
    "    for i in range(lf_dat.shape[0]):\n",
    "        ax.axvspan(date2num(lf_dat['start_lf'][i]), date2num(lf_dat['end_lf'][i]), \n",
    "                   label=\"Landfalls\",color=\"green\", alpha=0.3)\n",
    "    ax.set_title('Central pressure for cyc_id %s' % sid_hist+'_gen'+str(ens_nb))\n",
    "    ax.set_ylabel('hPa')\n",
    "    ax.legend((ws[0], wo, we), ('Actual', 'Historical track', 'Environmental pressure'))\n"
   ]
  },
  {
   "cell_type": "code",
   "execution_count": null,
   "metadata": {},
   "outputs": [],
   "source": [
    "plot_landfall_data(tc_decay, sid, 1)"
   ]
  },
  {
   "cell_type": "code",
   "execution_count": null,
   "metadata": {},
   "outputs": [],
   "source": [
    "haz_decay.centroids.gdf"
   ]
  },
  {
   "cell_type": "code",
   "execution_count": null,
   "metadata": {},
   "outputs": [],
   "source": [
    "haz.plot_intensity(event=1);\n",
    "haz_decay.plot_intensity(event=2);\n",
    "haz_no_decay.plot_intensity(event=2);"
   ]
  },
  {
   "cell_type": "code",
   "execution_count": null,
   "metadata": {},
   "outputs": [],
   "source": [
    "tc_tracks._get_landfall_idx(tc_no_decay.data[1])"
   ]
  },
  {
   "cell_type": "code",
   "execution_count": null,
   "metadata": {},
   "outputs": [],
   "source": [
    "tc_idx = 138\n",
    "print('TCTracks decay:', tc_decay.data[1].lat[tc_idx].values,\n",
    "\t  tc_decay.data[1].lon[tc_idx].values,\n",
    "\t  tc_decay.data[1].max_sustained_wind[tc_idx].values,\n",
    "\t  tc_decay.data[1].max_sustained_wind_unit,\n",
    "\t  tc_decay.data[1].on_land[tc_idx].values)\n",
    "\n",
    "print('TCTracks no decay:', tc_no_decay.data[1].lat[tc_idx].values,\n",
    "\t  tc_no_decay.data[1].lon[tc_idx].values,\n",
    "\t  tc_no_decay.data[1].max_sustained_wind[tc_idx].values,\n",
    "\t  tc_no_decay.data[1].max_sustained_wind_unit,\n",
    "\t  tc_no_decay.data[1].on_land[tc_idx].values)\n",
    "\n",
    "haz_idx = 22369\n",
    "print('Decay:', haz_decay.centroids.lat[haz_idx],\n",
    "\t  haz_decay.centroids.lon[haz_idx],\n",
    "\t  haz_decay.intensity[1].toarray().flatten()[haz_idx],\n",
    "\t  haz_decay.units)\n",
    "\n",
    "print('No decay:', haz_no_decay.centroids.lat[haz_idx],\n",
    "\t  haz_no_decay.centroids.lon[haz_idx],\n",
    "\t  haz_no_decay.intensity[1].toarray().flatten()[haz_idx],\n",
    "\t  haz_no_decay.units)\n",
    "\n"
   ]
  },
  {
   "cell_type": "markdown",
   "metadata": {},
   "source": [
    "Note 1: decay function does work, but there is nothing in the function that stops the TC early if the intensity reaches below a certain threshold.\n",
    "\n",
    "We need to look at the function that turns TCTracks object into TropCyclone object."
   ]
  }
 ],
 "metadata": {
  "kernelspec": {
   "display_name": "climada_env",
   "language": "python",
   "name": "python3"
  },
  "language_info": {
   "codemirror_mode": {
    "name": "ipython",
    "version": 3
   },
   "file_extension": ".py",
   "mimetype": "text/x-python",
   "name": "python",
   "nbconvert_exporter": "python",
   "pygments_lexer": "ipython3",
   "version": "3.9.18"
  }
 },
 "nbformat": 4,
 "nbformat_minor": 2
}
