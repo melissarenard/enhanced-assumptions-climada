{
 "cells": [
  {
   "cell_type": "code",
   "execution_count": null,
   "id": "b28a6921",
   "metadata": {},
   "outputs": [],
   "source": [
    "import pandas as pd\n",
    "import numpy as np\n",
    "import matplotlib.pyplot as plt\n",
    "\n",
    "import results\n",
    "import sim_pl as sim\n",
    "\n",
    "from climada.hazard import TropCyclone"
   ]
  },
  {
   "cell_type": "code",
   "execution_count": null,
   "id": "38b54d19",
   "metadata": {},
   "outputs": [],
   "source": [
    "n_year = 1\n",
    "mmnhpp_FFF = pd.read_csv(f'Outputs/MMNHPP_1000000_{n_year}_False_0.5_False_False.csv')\n",
    "mmnhpp_FFT = pd.read_csv(f'Outputs/MMNHPP_1000000_{n_year}_False_0.5_False_True.csv')\n",
    "mmnhpp_FTF = pd.read_csv(f'Outputs/MMNHPP_1000000_{n_year}_False_0.5_True_False.csv')\n",
    "mmnhpp_FTT = pd.read_csv(f'Outputs/MMNHPP_1000000_{n_year}_False_0.5_True_True.csv')\n",
    "mmnhpp_TFF_50 = pd.read_csv(f'Outputs/MMNHPP_1000000_{n_year}_True_0.5_False_False.csv')\n",
    "mmnhpp_TFT_50 = pd.read_csv(f'Outputs/MMNHPP_1000000_{n_year}_True_0.5_False_True.csv')\n",
    "mmnhpp_TTF_50 = pd.read_csv(f'Outputs/MMNHPP_1000000_{n_year}_True_0.5_True_False.csv')\n",
    "mmnhpp_TTT_50 = pd.read_csv(f'Outputs/MMNHPP_1000000_{n_year}_True_0.5_True_True.csv')\n",
    "mmnhpp_TTT_80 = pd.read_csv(f'Outputs/MMNHPP_1000000_{n_year}_True_0.8_True_True.csv')\n",
    "mmnhpp_TTT_100 = pd.read_csv(f'Outputs/MMNHPP_1000000_{n_year}_True_1.0_True_True.csv')"
   ]
  },
  {
   "cell_type": "code",
   "execution_count": null,
   "id": "5c40ae70",
   "metadata": {},
   "outputs": [],
   "source": [
    "mmnhpp_TTT_100.groupby('simulation').count()"
   ]
  },
  {
   "cell_type": "code",
   "execution_count": null,
   "id": "73aacd53",
   "metadata": {},
   "outputs": [],
   "source": [
    "rp = 250\n",
    "max_idx = int((1-1/rp)*1_000_000+1)"
   ]
  },
  {
   "cell_type": "code",
   "execution_count": null,
   "id": "c9e943be",
   "metadata": {},
   "outputs": [],
   "source": [
    "plt.figure(figsize=(9,5))\n",
    "\n",
    "MMNHPP_FFF_plot = results.get_return_period_curve(mmnhpp_FFF, plot = False)\n",
    "plt.plot(MMNHPP_FFF_plot[0][:max_idx], MMNHPP_FFF_plot[1][:max_idx], label = 'MMNHPP'); \n",
    "\n",
    "MMNHPP_TFF_plot = results.get_return_period_curve(mmnhpp_TFF_50, plot = False)\n",
    "plt.plot(MMNHPP_TFF_plot[0][:max_idx], MMNHPP_TFF_plot[1][:max_idx], label = 'MMNHPP w/ (1)'); \n",
    "\n",
    "MMNHPP_FTF_plot = results.get_return_period_curve(mmnhpp_FTF, plot = False)\n",
    "plt.plot(MMNHPP_FTF_plot[0][:max_idx], MMNHPP_FTF_plot[1][:max_idx], label = 'MMNHPP w/ (2)'); \n",
    "\n",
    "MMNHPP_FFT_plot = results.get_return_period_curve(mmnhpp_FFT, plot = False)\n",
    "plt.plot(MMNHPP_FFT_plot[0][:max_idx], MMNHPP_FFT_plot[1][:max_idx], label = 'MMNHPP w/ (3)'); \n",
    "\n",
    "MMNHPP_TTF_plot = results.get_return_period_curve(mmnhpp_TFF_50, plot = False)\n",
    "plt.plot(MMNHPP_TTF_plot[0][:max_idx], MMNHPP_TTF_plot[1][:max_idx], label = 'MMNHPP w/ (1), (2)'); \n",
    "\n",
    "MMNHPP_TFT_plot = results.get_return_period_curve(mmnhpp_TFT_50, plot = False)\n",
    "plt.plot(MMNHPP_TFT_plot[0][:max_idx], MMNHPP_TFT_plot[1][:max_idx], label = 'MMNHPP w/ (1), (3)'); \n",
    "\n",
    "MMNHPP_FTT_plot = results.get_return_period_curve(mmnhpp_FTT, plot = False)\n",
    "plt.plot(MMNHPP_FTT_plot[0][:max_idx], MMNHPP_FTT_plot[1][:max_idx], label = 'MMNHPP w/ (2), (3)'); \n",
    "\n",
    "MMNHPP_TTT_plot = results.get_return_period_curve(mmnhpp_TTT_50, plot = False)\n",
    "plt.plot(MMNHPP_TTT_plot[0][:max_idx], MMNHPP_TTT_plot[1][:max_idx], label = 'MMNHPP w/ (1), (2), (3)')\n",
    "\n",
    "plt.xlabel(\"Return period (years)\")\n",
    "plt.ylabel(\"Loss (USD)\");\n",
    "# plt.title(\"Exceedance Frequency Curve for Annual Losses\")\n",
    "plt.grid(color = 'whitesmoke');\n",
    "plt.legend(loc = 'upper left');\n",
    "\t"
   ]
  },
  {
   "cell_type": "code",
   "execution_count": null,
   "id": "b0d834c6",
   "metadata": {},
   "outputs": [],
   "source": [
    "rp = 250\n",
    "max_idx = int((1-1/rp)*1_000_000+1)\n",
    "plt.figure(figsize=(9,5))\n",
    "\n",
    "MMNHPP_FFF_plot = results.get_return_period_curve(mmnhpp_FFF, plot = False)\n",
    "plt.plot(MMNHPP_FFF_plot[0][:max_idx], MMNHPP_FFF_plot[1][:max_idx], label = 'MMNHPP'); \n",
    "\n",
    "MMNHPP_TTT_50_plot = results.get_return_period_curve(mmnhpp_TTT_50, plot = False)\n",
    "plt.plot(MMNHPP_TTT_50_plot[0][:max_idx], MMNHPP_TTT_50_plot[1][:max_idx], label = '50-25-25')\n",
    "\n",
    "MMNHPP_TTT_80_plot = results.get_return_period_curve(mmnhpp_TTT_80, plot = False)\n",
    "plt.plot(MMNHPP_TTT_80_plot[0][:max_idx], MMNHPP_TTT_80_plot[1][:max_idx], label = '80-10-10')\n",
    "\n",
    "MMNHPP_TTT_100_plot = results.get_return_period_curve(mmnhpp_TTT_100, plot = False)\n",
    "plt.plot(MMNHPP_TTT_100_plot[0][:max_idx], MMNHPP_TTT_100_plot[1][:max_idx], label = '100-0-0')\n",
    "\n",
    "plt.xlabel(\"Return period (years)\")\n",
    "plt.ylabel(\"Loss (USD)\");\n",
    "# plt.title(\"Exceedance Frequency Curve for Annual Losses\")\n",
    "plt.grid(color = 'whitesmoke');\n",
    "plt.legend(loc = 'upper left');\n",
    "\t"
   ]
  },
  {
   "cell_type": "code",
   "execution_count": null,
   "id": "2a90b38d",
   "metadata": {},
   "outputs": [],
   "source": [
    "results.risk_measures(mmnhpp_FFF);"
   ]
  }
 ],
 "metadata": {
  "kernelspec": {
   "display_name": "climada6",
   "language": "python",
   "name": "python3"
  },
  "language_info": {
   "codemirror_mode": {
    "name": "ipython",
    "version": 3
   },
   "file_extension": ".py",
   "mimetype": "text/x-python",
   "name": "python",
   "nbconvert_exporter": "python",
   "pygments_lexer": "ipython3",
   "version": "undefined.undefined.undefined"
  }
 },
 "nbformat": 4,
 "nbformat_minor": 5
}
