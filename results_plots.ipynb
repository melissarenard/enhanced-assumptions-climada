{
 "cells": [
  {
   "cell_type": "code",
   "execution_count": null,
   "id": "b28a6921",
   "metadata": {},
   "outputs": [],
   "source": [
    "import pandas as pd\n",
    "import numpy as np\n",
    "import matplotlib.pyplot as plt\n",
    "\n",
    "import results\n",
    "import sim_pl as sim\n",
    "\n",
    "from climada.hazard import TropCyclone"
   ]
  },
  {
   "cell_type": "code",
   "execution_count": null,
   "id": "38b54d19",
   "metadata": {},
   "outputs": [],
   "source": [
    "n_year = 1\n",
    "hpp = results.read_losses(True, n_year)\n",
    "mmnhpp_FFF = results.read_losses(False, n_year, False, 0.5, False, False)\n",
    "mmnhpp_TFF = results.read_losses(False, n_year, True, 0.5, False, False)\n",
    "mmnhpp_FTF = results.read_losses(False, n_year, False, 0.5, True, False)\n",
    "mmnhpp_FFT = results.read_losses(False, n_year, False, 0.5, False, True)\n",
    "mmnhpp_TTF = results.read_losses(False, n_year, True, 0.5, True, False)\n",
    "mmnhpp_TFT = results.read_losses(False, n_year, True, 0.5, False, True)\n",
    "mmnhpp_FTT = results.read_losses(False, n_year, False, 0.5, True, True)\n",
    "mmnhpp_TTT_50 = results.read_losses(False, n_year, True, 0.5, True, True)\n",
    "mmnhpp_TTT_80 = results.read_losses(False, n_year, True, 0.8, True, True)\n",
    "mmnhpp_TTT_100 = results.read_losses(False, n_year, True, 1.0, True, True)"
   ]
  },
  {
   "cell_type": "code",
   "execution_count": null,
   "id": "73aacd53",
   "metadata": {},
   "outputs": [],
   "source": [
    "rp = 250\n",
    "max_idx = int((1-1/rp)*1_000_000+1)"
   ]
  },
  {
   "cell_type": "code",
   "execution_count": null,
   "id": "5634d55c",
   "metadata": {},
   "outputs": [],
   "source": [
    "labels_dict = {\n",
    "\t'Naïve HPP': hpp,\n",
    "\t'MMNHPP': mmnhpp_FFF,\n",
    "\t'Location (50-25-25)': mmnhpp_TFF,\n",
    "\t'Intensity': mmnhpp_FTF,\n",
    "\t'Damage': mmnhpp_FFT,\n",
    "\t'Location (50-25-25) & Intensity': mmnhpp_TTF,\n",
    "\t'Location (50-25-25) & Damage': mmnhpp_TFT,\n",
    "\t'Intensity & Damage': mmnhpp_FTT,\n",
    "\t'All (50-25-25)': mmnhpp_TTT_50,\n",
    "\t'All (80-10-10)': mmnhpp_TTT_80,\n",
    "\t'All (100-0-0)': mmnhpp_TTT_100,\n",
    "}"
   ]
  },
  {
   "cell_type": "code",
   "execution_count": null,
   "id": "9824cb63",
   "metadata": {},
   "outputs": [],
   "source": [
    "results.plot_return_period_curves([hpp\n",
    "\t\t\t\t\t\t\t\t   ,mmnhpp_FFF\n",
    "\t\t\t\t\t\t\t\t   ,mmnhpp_TFF\n",
    "\t\t\t\t\t\t\t\t   ,mmnhpp_FTF\n",
    "\t\t\t\t\t\t\t\t   ,mmnhpp_FFT\n",
    "\t\t\t\t\t\t\t\t#    ,mmnhpp_TTF\n",
    "\t\t\t\t\t\t\t\t#    ,mmnhpp_TFT\n",
    "\t\t\t\t\t\t\t\t#    ,mmnhpp_FTT\n",
    "\t\t\t\t\t\t\t\t   ,mmnhpp_TTT_50\n",
    "\t\t\t\t\t\t\t\t#    ,mmnhpp_TTT_80\n",
    "\t\t\t\t\t\t\t\t#    ,mmnhpp_TTT_100\n",
    "\t\t\t\t\t\t\t\t   ], legend_labels=labels_dict)"
   ]
  },
  {
   "cell_type": "code",
   "execution_count": null,
   "id": "525c340b",
   "metadata": {},
   "outputs": [],
   "source": [
    "results.risk_measures([hpp\n",
    "\t\t\t\t\t   ,mmnhpp_FFF\n",
    "\t\t\t\t\t   ,mmnhpp_TFF\n",
    "\t\t\t\t\t   ,mmnhpp_FTF\n",
    "\t\t\t\t\t   ,mmnhpp_FFT\n",
    "\t\t\t\t\t   ,mmnhpp_TTF\n",
    "\t\t\t\t\t   ,mmnhpp_TFT\n",
    "\t\t\t\t\t   ,mmnhpp_FTT\n",
    "\t\t\t\t\t   ,mmnhpp_TTT_50\n",
    "\t\t\t\t\t#    ,mmnhpp_TTT_80\n",
    "\t\t\t\t\t#    ,mmnhpp_TTT_100\n",
    "\t\t\t\t\t   ], column_labels=labels_dict, units=10**6)"
   ]
  }
 ],
 "metadata": {
  "kernelspec": {
   "display_name": "climada6",
   "language": "python",
   "name": "python3"
  },
  "language_info": {
   "codemirror_mode": {
    "name": "ipython",
    "version": 3
   },
   "file_extension": ".py",
   "mimetype": "text/x-python",
   "name": "python",
   "nbconvert_exporter": "python",
   "pygments_lexer": "ipython3",
   "version": "3.11.11"
  }
 },
 "nbformat": 4,
 "nbformat_minor": 5
}
