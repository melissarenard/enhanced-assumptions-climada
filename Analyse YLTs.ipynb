{
 "cells": [
  {
   "cell_type": "code",
   "execution_count": null,
   "id": "b28a6921",
   "metadata": {},
   "outputs": [],
   "source": [
    "from natcat_analysis import read_losses, plot_return_period_curves, risk_measures"
   ]
  },
  {
   "cell_type": "code",
   "execution_count": 2,
   "id": "38b54d19",
   "metadata": {},
   "outputs": [],
   "source": [
    "n_year = 1"
   ]
  },
  {
   "cell_type": "code",
   "execution_count": null,
   "id": "d7e05e38",
   "metadata": {},
   "outputs": [],
   "source": [
    "hpp = read_losses(True, n_year)\n",
    "mmnhpp_FFF = read_losses(False, n_year, False, 0.5, False, False)\n",
    "mmnhpp_TFF = read_losses(False, n_year, True, 0.5, False, False)\n",
    "mmnhpp_FTF = read_losses(False, n_year, False, 0.5, True, False)\n",
    "mmnhpp_FFT = read_losses(False, n_year, False, 0.5, False, True)\n",
    "mmnhpp_TTF = read_losses(False, n_year, True, 0.5, True, False)\n",
    "mmnhpp_TFT = read_losses(False, n_year, True, 0.5, False, True)\n",
    "mmnhpp_FTT = read_losses(False, n_year, False, 0.5, True, True)\n",
    "mmnhpp_TTT_50 = read_losses(False, n_year, True, 0.5, True, True)\n",
    "mmnhpp_TTT_80 = read_losses(False, n_year, True, 0.8, True, True)\n",
    "mmnhpp_TTT_100 = read_losses(False, n_year, True, 1.0, True, True)"
   ]
  },
  {
   "cell_type": "code",
   "execution_count": null,
   "id": "5634d55c",
   "metadata": {},
   "outputs": [],
   "source": [
    "labels_dict = {\n",
    "    \"Naïve HPP\": hpp,\n",
    "    \"MMNHPP\": mmnhpp_FFF,\n",
    "    \"Location (50-25-25)\": mmnhpp_TFF,\n",
    "    \"Intensity\": mmnhpp_FTF,\n",
    "    \"Damage\": mmnhpp_FFT,\n",
    "    \"Location (50-25-25) & Intensity\": mmnhpp_TTF,\n",
    "    \"Location (50-25-25) & Damage\": mmnhpp_TFT,\n",
    "    \"Intensity & Damage\": mmnhpp_FTT,\n",
    "    \"All (50-25-25)\": mmnhpp_TTT_50,\n",
    "    \"All (80-10-10)\": mmnhpp_TTT_80,\n",
    "    \"All (100-0-0)\": mmnhpp_TTT_100,\n",
    "}"
   ]
  },
  {
   "cell_type": "code",
   "execution_count": null,
   "id": "9824cb63",
   "metadata": {},
   "outputs": [],
   "source": [
    "plot_return_period_curves(\n",
    "    [\n",
    "        hpp,\n",
    "        mmnhpp_FFF,\n",
    "        mmnhpp_TFF,\n",
    "        mmnhpp_FTF,\n",
    "        mmnhpp_FFT,\n",
    "        mmnhpp_TTF,\n",
    "        mmnhpp_TFT,\n",
    "        mmnhpp_FTT,\n",
    "        mmnhpp_TTT_50,\n",
    "        mmnhpp_TTT_80,\n",
    "        mmnhpp_TTT_100,\n",
    "    ],\n",
    "    legend_labels=labels_dict,\n",
    "\tsavefig = False\n",
    ")"
   ]
  },
  {
   "cell_type": "code",
   "execution_count": null,
   "id": "525c340b",
   "metadata": {},
   "outputs": [],
   "source": [
    "risk_measures(\n",
    "    [\n",
    "        hpp,\n",
    "        mmnhpp_FFF,\n",
    "        mmnhpp_FFT,\n",
    "        mmnhpp_FTF,\n",
    "        mmnhpp_FTT,\n",
    "        mmnhpp_TFF,\n",
    "        mmnhpp_TFT,\n",
    "        mmnhpp_TTF,\n",
    "        mmnhpp_TTT_50,\n",
    "        mmnhpp_TTT_80,\n",
    "        mmnhpp_TTT_100,\n",
    "    ],\n",
    "    column_labels=labels_dict,\n",
    "    units=10**6,\n",
    ")"
   ]
  }
 ],
 "metadata": {
  "kernelspec": {
   "display_name": "climada6",
   "language": "python",
   "name": "python3"
  },
  "language_info": {
   "codemirror_mode": {
    "name": "ipython",
    "version": 3
   },
   "file_extension": ".py",
   "mimetype": "text/x-python",
   "name": "python",
   "nbconvert_exporter": "python",
   "pygments_lexer": "ipython3",
   "version": "3.11.11"
  }
 },
 "nbformat": 4,
 "nbformat_minor": 5
}
